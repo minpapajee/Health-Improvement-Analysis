{
 "cells": [
  {
   "attachments": {},
   "cell_type": "markdown",
   "metadata": {},
   "source": [
    "# Biological, Health, and Socioeconomic Factors Causing Diabetes"
   ]
  },
  {
   "attachments": {},
   "cell_type": "markdown",
   "metadata": {},
   "source": [
    "### Video Presentation: https://youtu.be/GE2OIT554UQ"
   ]
  },
  {
   "attachments": {},
   "cell_type": "markdown",
   "metadata": {},
   "source": [
    "## Permissions\n",
    "\n",
    "Place an `X` in the appropriate bracket below to specify if you would like your group's project to be made available to the public. (Note that student names will be included (but PIDs will be scraped from any groups who include their PIDs).\n",
    "\n",
    "* [ `X` ] YES - make available\n",
    "* [  ] NO - keep private"
   ]
  },
  {
   "attachments": {},
   "cell_type": "markdown",
   "metadata": {},
   "source": [
    "# Overview"
   ]
  },
  {
   "attachments": {},
   "cell_type": "markdown",
   "metadata": {},
   "source": [
    "The purpose of this project is to explore which factors is most indictive of diabetes and whether or not economic factors plays a part into this. We used a multitude of plots to demonstrate the relation of different factors on diabetes, and we used OLS to demonstrate the relation of income to other factors. In the end, our hypothesis was correct that BMI, high cholesterol, smoking history, and lower income were the most indictive of diabetes, but we also found that it is possible that age was a confounding factor in our analysis of the effect of income."
   ]
  },
  {
   "attachments": {},
   "cell_type": "markdown",
   "metadata": {},
   "source": [
    "# Names\n",
    "\n",
    "- Aiden Jee\n",
    "- Rishmal Rohin Kumar\n",
    "- Gavin Zhou"
   ]
  },
  {
   "attachments": {},
   "cell_type": "markdown",
   "metadata": {},
   "source": [
    "<a id='research_question'></a>\n",
    "# Research Question"
   ]
  },
  {
   "attachments": {},
   "cell_type": "markdown",
   "metadata": {},
   "source": [
    "What biological, health, and socioeconomic factors are most indicative of diabetes or prediabetes? Do the most indicative factors vary based on Income?"
   ]
  },
  {
   "attachments": {},
   "cell_type": "markdown",
   "metadata": {},
   "source": [
    "<a id='background'></a>\n",
    "\n",
    "## Background & Prior Work"
   ]
  },
  {
   "attachments": {},
   "cell_type": "markdown",
   "metadata": {},
   "source": [
    "Diabetes is a chronic health disease that affects how your body turns food into energy. Diabetes affects many Americans today, and it is the eighth leading cause of death in America. (1) There are three main types of diabetes: type 1, type 2, and gestational diabetes. With diabetes, the body doesn’t make enough insulin or can’t use it as well as it should. This can lead to serious problems such as heart disease, vision loss, and kidney disease. Diabetes is incurable, but there are many factors that are within human control. (2) That leads us to our question: What are the significant relationships between biological and health factors, such as age, BMI, blood glucose level, etc., and diabetes?\n",
    "\n",
    "There is an abundance of research on the topic, but many prior works are focused on the connection of sociodemographic factors and diabetes. This can be helpful to our research, as many sociodemographic factors are directly correlated to health and biological factors. In fact, one work finds extremely high correlation between low socioeconomic status and diabetes. Low socioeconomic status is also found to be directly related to high body weight and lack of exercise, which supports the idea that obesity is a big factor in diabetes. (3) \n",
    "\n",
    "Other works find many lifestyle factors to be a strong force behind the cause of diabetes. Most notably are lack of exercise, weight, and poor sleep. (4) Our research aims to find other factors that may be helpful in the prevention of diabetes or even the treatment of it. \n",
    "\n",
    "References: \n",
    "1. https://www.mayoclinic.org/diseases-conditions/diabetes/symptoms-causes/syc-20371444\n",
    "2. https://www.cdc.gov/diabetes/basics/diabetes.html \n",
    "3. https://bmcendocrdisord.biomedcentral.com/articles/10.1186/s12902-019-0463-3 \n",
    "4. https://www.ncbi.nlm.nih.gov/pmc/articles/PMC4166864/\n"
   ]
  },
  {
   "attachments": {},
   "cell_type": "markdown",
   "metadata": {},
   "source": [
    "# Hypothesis\n"
   ]
  },
  {
   "attachments": {},
   "cell_type": "markdown",
   "metadata": {},
   "source": [
    "We hypothesize that BMI, High Cholesterol and Smoking history will be the most indicative of diabetes or prediabetes. We also hypothesize that people with lower income will have higher rates of diabetes or prediabetes."
   ]
  },
  {
   "attachments": {},
   "cell_type": "markdown",
   "metadata": {},
   "source": [
    "# Dataset(s)"
   ]
  },
  {
   "attachments": {},
   "cell_type": "markdown",
   "metadata": {},
   "source": [
    "**Dataset Name:** Diabetes Health Indicators Dataset\n",
    "\n",
    "**Link to the Dataset:** https://www.kaggle.com/datasets/alexteboul/diabetes-health-indicators-dataset?resource=download&select=diabetes_binary_health_indicators_BRFSS2015.csv\n",
    "\n",
    "**Number of Observations:** 253,680 observations\n",
    "\n",
    "\n",
    "**Description of Dataset:** This dataset is from the Behavioral Risk Factor Surveillance System (BRFSS), which is a health-related telephone survey in the United States that is collected annually by the CDC. The survey asks Americans about health-related risk behaviors and chronic health conditions. This dataset is from the 2015 survey.\n",
    "\n",
    "| **Attribute** | **Description** |\n",
    "| --- | --- |\n",
    "| Diabetes | Does participant have Diabetes? Boolean Value: 0 = No, 1 = Yes |\n",
    "| High Blood Pressure | Does participant have High Blood Pressure? Boolean Value: 0 = No, 1 = Yes |\n",
    "| High Cholestrol | Does participant have High Cholesterol? Boolean Value: 0 = No, 1 = Yes |\n",
    "| Cholestrol Check | Has the participant had a Cholesterol Check in the past 5 years? Boolean Value: 0 = No, 1 = Yes |\n",
    "| BMI | Body Mass Index of the participant. Integer Value |\n",
    "| Smoking History | Has the participant Smoked at least 100 cigarettes in their entire life? Boolean Value: 0 = No, 1 = Yes |\n",
    "| Physical Activity | Has the participant done Physical Activity in the past 30 days, not including their job? Boolean Value: 0 = No, 1 = Yes |\n",
    "| Heavy Alcohol Consumption | Adult Men: At least 14 drinks per week, Adult Women: At least 7 drinks per week. Boolean Value: 0 = No, 1 = Yes |\n",
    "| Sex | Participant's Sex. Boolean Value: 0 = Female, 1 = Male |\n",
    "| Age | Participant's Age in AGE5YR (14-Level Age Category). Integer Value: 1 = 18-24, . . . , 9 = 60-64, . . . , 13 = 80 or older |\n",
    "| Income | Particpant's Income in INCOME2 (8-Level Income Category). Integer Value: 1  = Less than $10,000, . . . , 8 = $75,000 or more |"
   ]
  },
  {
   "attachments": {},
   "cell_type": "markdown",
   "metadata": {},
   "source": [
    "# Setup"
   ]
  },
  {
   "cell_type": "code",
   "execution_count": 2,
   "metadata": {},
   "outputs": [],
   "source": [
    "import pandas as pd\n",
    "import numpy as np\n",
    "import matplotlib.pyplot as plt\n",
    "import seaborn as sns\n",
    "import patsy\n",
    "import statsmodels.api as sm"
   ]
  },
  {
   "cell_type": "code",
   "execution_count": 3,
   "metadata": {},
   "outputs": [],
   "source": [
    "data = pd.read_csv(\"data/diabetes_binary_health_indicators_BRFSS2015.csv\")"
   ]
  },
  {
   "attachments": {},
   "cell_type": "markdown",
   "metadata": {},
   "source": [
    "# Data Cleaning"
   ]
  },
  {
   "attachments": {},
   "cell_type": "markdown",
   "metadata": {},
   "source": [
    "First, let's take a look at the dataset."
   ]
  },
  {
   "cell_type": "code",
   "execution_count": null,
   "metadata": {},
   "outputs": [
    {
     "data": {
      "text/html": [
       "<div>\n",
       "<style scoped>\n",
       "    .dataframe tbody tr th:only-of-type {\n",
       "        vertical-align: middle;\n",
       "    }\n",
       "\n",
       "    .dataframe tbody tr th {\n",
       "        vertical-align: top;\n",
       "    }\n",
       "\n",
       "    .dataframe thead th {\n",
       "        text-align: right;\n",
       "    }\n",
       "</style>\n",
       "<table border=\"1\" class=\"dataframe\">\n",
       "  <thead>\n",
       "    <tr style=\"text-align: right;\">\n",
       "      <th></th>\n",
       "      <th>Diabetes_binary</th>\n",
       "      <th>HighBP</th>\n",
       "      <th>HighChol</th>\n",
       "      <th>CholCheck</th>\n",
       "      <th>BMI</th>\n",
       "      <th>Smoker</th>\n",
       "      <th>Stroke</th>\n",
       "      <th>HeartDiseaseorAttack</th>\n",
       "      <th>PhysActivity</th>\n",
       "      <th>Fruits</th>\n",
       "      <th>...</th>\n",
       "      <th>AnyHealthcare</th>\n",
       "      <th>NoDocbcCost</th>\n",
       "      <th>GenHlth</th>\n",
       "      <th>MentHlth</th>\n",
       "      <th>PhysHlth</th>\n",
       "      <th>DiffWalk</th>\n",
       "      <th>Sex</th>\n",
       "      <th>Age</th>\n",
       "      <th>Education</th>\n",
       "      <th>Income</th>\n",
       "    </tr>\n",
       "  </thead>\n",
       "  <tbody>\n",
       "    <tr>\n",
       "      <th>0</th>\n",
       "      <td>0.0</td>\n",
       "      <td>1.0</td>\n",
       "      <td>1.0</td>\n",
       "      <td>1.0</td>\n",
       "      <td>40.0</td>\n",
       "      <td>1.0</td>\n",
       "      <td>0.0</td>\n",
       "      <td>0.0</td>\n",
       "      <td>0.0</td>\n",
       "      <td>0.0</td>\n",
       "      <td>...</td>\n",
       "      <td>1.0</td>\n",
       "      <td>0.0</td>\n",
       "      <td>5.0</td>\n",
       "      <td>18.0</td>\n",
       "      <td>15.0</td>\n",
       "      <td>1.0</td>\n",
       "      <td>0.0</td>\n",
       "      <td>9.0</td>\n",
       "      <td>4.0</td>\n",
       "      <td>3.0</td>\n",
       "    </tr>\n",
       "    <tr>\n",
       "      <th>1</th>\n",
       "      <td>0.0</td>\n",
       "      <td>0.0</td>\n",
       "      <td>0.0</td>\n",
       "      <td>0.0</td>\n",
       "      <td>25.0</td>\n",
       "      <td>1.0</td>\n",
       "      <td>0.0</td>\n",
       "      <td>0.0</td>\n",
       "      <td>1.0</td>\n",
       "      <td>0.0</td>\n",
       "      <td>...</td>\n",
       "      <td>0.0</td>\n",
       "      <td>1.0</td>\n",
       "      <td>3.0</td>\n",
       "      <td>0.0</td>\n",
       "      <td>0.0</td>\n",
       "      <td>0.0</td>\n",
       "      <td>0.0</td>\n",
       "      <td>7.0</td>\n",
       "      <td>6.0</td>\n",
       "      <td>1.0</td>\n",
       "    </tr>\n",
       "    <tr>\n",
       "      <th>2</th>\n",
       "      <td>0.0</td>\n",
       "      <td>1.0</td>\n",
       "      <td>1.0</td>\n",
       "      <td>1.0</td>\n",
       "      <td>28.0</td>\n",
       "      <td>0.0</td>\n",
       "      <td>0.0</td>\n",
       "      <td>0.0</td>\n",
       "      <td>0.0</td>\n",
       "      <td>1.0</td>\n",
       "      <td>...</td>\n",
       "      <td>1.0</td>\n",
       "      <td>1.0</td>\n",
       "      <td>5.0</td>\n",
       "      <td>30.0</td>\n",
       "      <td>30.0</td>\n",
       "      <td>1.0</td>\n",
       "      <td>0.0</td>\n",
       "      <td>9.0</td>\n",
       "      <td>4.0</td>\n",
       "      <td>8.0</td>\n",
       "    </tr>\n",
       "    <tr>\n",
       "      <th>3</th>\n",
       "      <td>0.0</td>\n",
       "      <td>1.0</td>\n",
       "      <td>0.0</td>\n",
       "      <td>1.0</td>\n",
       "      <td>27.0</td>\n",
       "      <td>0.0</td>\n",
       "      <td>0.0</td>\n",
       "      <td>0.0</td>\n",
       "      <td>1.0</td>\n",
       "      <td>1.0</td>\n",
       "      <td>...</td>\n",
       "      <td>1.0</td>\n",
       "      <td>0.0</td>\n",
       "      <td>2.0</td>\n",
       "      <td>0.0</td>\n",
       "      <td>0.0</td>\n",
       "      <td>0.0</td>\n",
       "      <td>0.0</td>\n",
       "      <td>11.0</td>\n",
       "      <td>3.0</td>\n",
       "      <td>6.0</td>\n",
       "    </tr>\n",
       "    <tr>\n",
       "      <th>4</th>\n",
       "      <td>0.0</td>\n",
       "      <td>1.0</td>\n",
       "      <td>1.0</td>\n",
       "      <td>1.0</td>\n",
       "      <td>24.0</td>\n",
       "      <td>0.0</td>\n",
       "      <td>0.0</td>\n",
       "      <td>0.0</td>\n",
       "      <td>1.0</td>\n",
       "      <td>1.0</td>\n",
       "      <td>...</td>\n",
       "      <td>1.0</td>\n",
       "      <td>0.0</td>\n",
       "      <td>2.0</td>\n",
       "      <td>3.0</td>\n",
       "      <td>0.0</td>\n",
       "      <td>0.0</td>\n",
       "      <td>0.0</td>\n",
       "      <td>11.0</td>\n",
       "      <td>5.0</td>\n",
       "      <td>4.0</td>\n",
       "    </tr>\n",
       "  </tbody>\n",
       "</table>\n",
       "<p>5 rows × 22 columns</p>\n",
       "</div>"
      ],
      "text/plain": [
       "   Diabetes_binary  HighBP  HighChol  CholCheck   BMI  Smoker  Stroke  \\\n",
       "0              0.0     1.0       1.0        1.0  40.0     1.0     0.0   \n",
       "1              0.0     0.0       0.0        0.0  25.0     1.0     0.0   \n",
       "2              0.0     1.0       1.0        1.0  28.0     0.0     0.0   \n",
       "3              0.0     1.0       0.0        1.0  27.0     0.0     0.0   \n",
       "4              0.0     1.0       1.0        1.0  24.0     0.0     0.0   \n",
       "\n",
       "   HeartDiseaseorAttack  PhysActivity  Fruits  ...  AnyHealthcare  \\\n",
       "0                   0.0           0.0     0.0  ...            1.0   \n",
       "1                   0.0           1.0     0.0  ...            0.0   \n",
       "2                   0.0           0.0     1.0  ...            1.0   \n",
       "3                   0.0           1.0     1.0  ...            1.0   \n",
       "4                   0.0           1.0     1.0  ...            1.0   \n",
       "\n",
       "   NoDocbcCost  GenHlth  MentHlth  PhysHlth  DiffWalk  Sex   Age  Education  \\\n",
       "0          0.0      5.0      18.0      15.0       1.0  0.0   9.0        4.0   \n",
       "1          1.0      3.0       0.0       0.0       0.0  0.0   7.0        6.0   \n",
       "2          1.0      5.0      30.0      30.0       1.0  0.0   9.0        4.0   \n",
       "3          0.0      2.0       0.0       0.0       0.0  0.0  11.0        3.0   \n",
       "4          0.0      2.0       3.0       0.0       0.0  0.0  11.0        5.0   \n",
       "\n",
       "   Income  \n",
       "0     3.0  \n",
       "1     1.0  \n",
       "2     8.0  \n",
       "3     6.0  \n",
       "4     4.0  \n",
       "\n",
       "[5 rows x 22 columns]"
      ]
     },
     "metadata": {},
     "output_type": "display_data"
    }
   ],
   "source": [
    "data.head()"
   ]
  },
  {
   "attachments": {},
   "cell_type": "markdown",
   "metadata": {},
   "source": [
    "We decided to focus on a specific subset of the available features for our study. We will remove the unnecessary columns from our dataframe"
   ]
  },
  {
   "cell_type": "code",
   "execution_count": null,
   "metadata": {},
   "outputs": [
    {
     "data": {
      "text/plain": [
       "Index(['Diabetes_binary', 'HighBP', 'HighChol', 'CholCheck', 'BMI', 'Smoker',\n",
       "       'Stroke', 'HeartDiseaseorAttack', 'PhysActivity', 'Fruits', 'Veggies',\n",
       "       'HvyAlcoholConsump', 'AnyHealthcare', 'NoDocbcCost', 'GenHlth',\n",
       "       'MentHlth', 'PhysHlth', 'DiffWalk', 'Sex', 'Age', 'Education',\n",
       "       'Income'],\n",
       "      dtype='object')"
      ]
     },
     "metadata": {},
     "output_type": "display_data"
    }
   ],
   "source": [
    "data.columns"
   ]
  },
  {
   "cell_type": "code",
   "execution_count": 41,
   "metadata": {},
   "outputs": [
    {
     "data": {
      "text/html": [
       "<div>\n",
       "<style scoped>\n",
       "    .dataframe tbody tr th:only-of-type {\n",
       "        vertical-align: middle;\n",
       "    }\n",
       "\n",
       "    .dataframe tbody tr th {\n",
       "        vertical-align: top;\n",
       "    }\n",
       "\n",
       "    .dataframe thead th {\n",
       "        text-align: right;\n",
       "    }\n",
       "</style>\n",
       "<table border=\"1\" class=\"dataframe\">\n",
       "  <thead>\n",
       "    <tr style=\"text-align: right;\">\n",
       "      <th></th>\n",
       "      <th>Diabetes_binary</th>\n",
       "      <th>HighBP</th>\n",
       "      <th>HighChol</th>\n",
       "      <th>CholCheck</th>\n",
       "      <th>BMI</th>\n",
       "      <th>Smoker</th>\n",
       "      <th>PhysActivity</th>\n",
       "      <th>HvyAlcoholConsump</th>\n",
       "      <th>Age</th>\n",
       "      <th>Income</th>\n",
       "    </tr>\n",
       "  </thead>\n",
       "  <tbody>\n",
       "    <tr>\n",
       "      <th>0</th>\n",
       "      <td>0.0</td>\n",
       "      <td>1.0</td>\n",
       "      <td>1.0</td>\n",
       "      <td>1.0</td>\n",
       "      <td>40.0</td>\n",
       "      <td>1.0</td>\n",
       "      <td>0.0</td>\n",
       "      <td>0.0</td>\n",
       "      <td>9.0</td>\n",
       "      <td>3.0</td>\n",
       "    </tr>\n",
       "    <tr>\n",
       "      <th>1</th>\n",
       "      <td>0.0</td>\n",
       "      <td>0.0</td>\n",
       "      <td>0.0</td>\n",
       "      <td>0.0</td>\n",
       "      <td>25.0</td>\n",
       "      <td>1.0</td>\n",
       "      <td>1.0</td>\n",
       "      <td>0.0</td>\n",
       "      <td>7.0</td>\n",
       "      <td>1.0</td>\n",
       "    </tr>\n",
       "    <tr>\n",
       "      <th>2</th>\n",
       "      <td>0.0</td>\n",
       "      <td>1.0</td>\n",
       "      <td>1.0</td>\n",
       "      <td>1.0</td>\n",
       "      <td>28.0</td>\n",
       "      <td>0.0</td>\n",
       "      <td>0.0</td>\n",
       "      <td>0.0</td>\n",
       "      <td>9.0</td>\n",
       "      <td>8.0</td>\n",
       "    </tr>\n",
       "    <tr>\n",
       "      <th>3</th>\n",
       "      <td>0.0</td>\n",
       "      <td>1.0</td>\n",
       "      <td>0.0</td>\n",
       "      <td>1.0</td>\n",
       "      <td>27.0</td>\n",
       "      <td>0.0</td>\n",
       "      <td>1.0</td>\n",
       "      <td>0.0</td>\n",
       "      <td>11.0</td>\n",
       "      <td>6.0</td>\n",
       "    </tr>\n",
       "    <tr>\n",
       "      <th>4</th>\n",
       "      <td>0.0</td>\n",
       "      <td>1.0</td>\n",
       "      <td>1.0</td>\n",
       "      <td>1.0</td>\n",
       "      <td>24.0</td>\n",
       "      <td>0.0</td>\n",
       "      <td>1.0</td>\n",
       "      <td>0.0</td>\n",
       "      <td>11.0</td>\n",
       "      <td>4.0</td>\n",
       "    </tr>\n",
       "  </tbody>\n",
       "</table>\n",
       "</div>"
      ],
      "text/plain": [
       "   Diabetes_binary  HighBP  HighChol  CholCheck   BMI  Smoker  PhysActivity  \\\n",
       "0              0.0     1.0       1.0        1.0  40.0     1.0           0.0   \n",
       "1              0.0     0.0       0.0        0.0  25.0     1.0           1.0   \n",
       "2              0.0     1.0       1.0        1.0  28.0     0.0           0.0   \n",
       "3              0.0     1.0       0.0        1.0  27.0     0.0           1.0   \n",
       "4              0.0     1.0       1.0        1.0  24.0     0.0           1.0   \n",
       "\n",
       "   HvyAlcoholConsump   Age  Income  \n",
       "0                0.0   9.0     3.0  \n",
       "1                0.0   7.0     1.0  \n",
       "2                0.0   9.0     8.0  \n",
       "3                0.0  11.0     6.0  \n",
       "4                0.0  11.0     4.0  "
      ]
     },
     "execution_count": 41,
     "metadata": {},
     "output_type": "execute_result"
    }
   ],
   "source": [
    "data = data[['Diabetes_binary', 'HighBP', 'HighChol', 'CholCheck', 'BMI', 'Smoker', 'PhysActivity', 'HvyAlcoholConsump', 'Age', 'Income']]\n",
    "data.head()"
   ]
  },
  {
   "attachments": {},
   "cell_type": "markdown",
   "metadata": {},
   "source": [
    "Since we are going to be considering many of these factors in conjuction with one another, we want to make sure to get rid of all rows that have any empty columns. Fortunately, we found that this dataset had no rows with empty columns."
   ]
  },
  {
   "cell_type": "code",
   "execution_count": null,
   "metadata": {},
   "outputs": [
    {
     "data": {
      "text/plain": [
       "Diabetes_binary         0\n",
       "HighBP                  0\n",
       "HighChol                0\n",
       "CholCheck               0\n",
       "BMI                     0\n",
       "Smoker                  0\n",
       "Stroke                  0\n",
       "HeartDiseaseorAttack    0\n",
       "PhysActivity            0\n",
       "HvyAlcoholConsump       0\n",
       "MentHlth                0\n",
       "Sex                     0\n",
       "Age                     0\n",
       "Income                  0\n",
       "dtype: int64"
      ]
     },
     "metadata": {},
     "output_type": "display_data"
    }
   ],
   "source": [
    "data.isna().sum()"
   ]
  },
  {
   "attachments": {},
   "cell_type": "markdown",
   "metadata": {},
   "source": [
    "We noticed that a lot of the column names are unclear and confusing, so we decided to rename many of the columns"
   ]
  },
  {
   "cell_type": "code",
   "execution_count": 4,
   "metadata": {},
   "outputs": [
    {
     "data": {
      "text/html": [
       "<div>\n",
       "<style scoped>\n",
       "    .dataframe tbody tr th:only-of-type {\n",
       "        vertical-align: middle;\n",
       "    }\n",
       "\n",
       "    .dataframe tbody tr th {\n",
       "        vertical-align: top;\n",
       "    }\n",
       "\n",
       "    .dataframe thead th {\n",
       "        text-align: right;\n",
       "    }\n",
       "</style>\n",
       "<table border=\"1\" class=\"dataframe\">\n",
       "  <thead>\n",
       "    <tr style=\"text-align: right;\">\n",
       "      <th></th>\n",
       "      <th>Diabetes</th>\n",
       "      <th>High Blood Pressure</th>\n",
       "      <th>High Cholesterol</th>\n",
       "      <th>Cholesterol Check</th>\n",
       "      <th>BMI</th>\n",
       "      <th>Smoking History</th>\n",
       "      <th>Stroke</th>\n",
       "      <th>Heart Disease or Attack</th>\n",
       "      <th>Physical Activity</th>\n",
       "      <th>Fruits</th>\n",
       "      <th>...</th>\n",
       "      <th>AnyHealthcare</th>\n",
       "      <th>NoDocbcCost</th>\n",
       "      <th>GenHlth</th>\n",
       "      <th>Mental Health</th>\n",
       "      <th>PhysHlth</th>\n",
       "      <th>DiffWalk</th>\n",
       "      <th>Sex</th>\n",
       "      <th>Age</th>\n",
       "      <th>Education</th>\n",
       "      <th>Income</th>\n",
       "    </tr>\n",
       "  </thead>\n",
       "  <tbody>\n",
       "    <tr>\n",
       "      <th>0</th>\n",
       "      <td>0.0</td>\n",
       "      <td>1.0</td>\n",
       "      <td>1.0</td>\n",
       "      <td>1.0</td>\n",
       "      <td>40.0</td>\n",
       "      <td>1.0</td>\n",
       "      <td>0.0</td>\n",
       "      <td>0.0</td>\n",
       "      <td>0.0</td>\n",
       "      <td>0.0</td>\n",
       "      <td>...</td>\n",
       "      <td>1.0</td>\n",
       "      <td>0.0</td>\n",
       "      <td>5.0</td>\n",
       "      <td>18.0</td>\n",
       "      <td>15.0</td>\n",
       "      <td>1.0</td>\n",
       "      <td>0.0</td>\n",
       "      <td>9.0</td>\n",
       "      <td>4.0</td>\n",
       "      <td>3.0</td>\n",
       "    </tr>\n",
       "    <tr>\n",
       "      <th>1</th>\n",
       "      <td>0.0</td>\n",
       "      <td>0.0</td>\n",
       "      <td>0.0</td>\n",
       "      <td>0.0</td>\n",
       "      <td>25.0</td>\n",
       "      <td>1.0</td>\n",
       "      <td>0.0</td>\n",
       "      <td>0.0</td>\n",
       "      <td>1.0</td>\n",
       "      <td>0.0</td>\n",
       "      <td>...</td>\n",
       "      <td>0.0</td>\n",
       "      <td>1.0</td>\n",
       "      <td>3.0</td>\n",
       "      <td>0.0</td>\n",
       "      <td>0.0</td>\n",
       "      <td>0.0</td>\n",
       "      <td>0.0</td>\n",
       "      <td>7.0</td>\n",
       "      <td>6.0</td>\n",
       "      <td>1.0</td>\n",
       "    </tr>\n",
       "    <tr>\n",
       "      <th>2</th>\n",
       "      <td>0.0</td>\n",
       "      <td>1.0</td>\n",
       "      <td>1.0</td>\n",
       "      <td>1.0</td>\n",
       "      <td>28.0</td>\n",
       "      <td>0.0</td>\n",
       "      <td>0.0</td>\n",
       "      <td>0.0</td>\n",
       "      <td>0.0</td>\n",
       "      <td>1.0</td>\n",
       "      <td>...</td>\n",
       "      <td>1.0</td>\n",
       "      <td>1.0</td>\n",
       "      <td>5.0</td>\n",
       "      <td>30.0</td>\n",
       "      <td>30.0</td>\n",
       "      <td>1.0</td>\n",
       "      <td>0.0</td>\n",
       "      <td>9.0</td>\n",
       "      <td>4.0</td>\n",
       "      <td>8.0</td>\n",
       "    </tr>\n",
       "    <tr>\n",
       "      <th>3</th>\n",
       "      <td>0.0</td>\n",
       "      <td>1.0</td>\n",
       "      <td>0.0</td>\n",
       "      <td>1.0</td>\n",
       "      <td>27.0</td>\n",
       "      <td>0.0</td>\n",
       "      <td>0.0</td>\n",
       "      <td>0.0</td>\n",
       "      <td>1.0</td>\n",
       "      <td>1.0</td>\n",
       "      <td>...</td>\n",
       "      <td>1.0</td>\n",
       "      <td>0.0</td>\n",
       "      <td>2.0</td>\n",
       "      <td>0.0</td>\n",
       "      <td>0.0</td>\n",
       "      <td>0.0</td>\n",
       "      <td>0.0</td>\n",
       "      <td>11.0</td>\n",
       "      <td>3.0</td>\n",
       "      <td>6.0</td>\n",
       "    </tr>\n",
       "    <tr>\n",
       "      <th>4</th>\n",
       "      <td>0.0</td>\n",
       "      <td>1.0</td>\n",
       "      <td>1.0</td>\n",
       "      <td>1.0</td>\n",
       "      <td>24.0</td>\n",
       "      <td>0.0</td>\n",
       "      <td>0.0</td>\n",
       "      <td>0.0</td>\n",
       "      <td>1.0</td>\n",
       "      <td>1.0</td>\n",
       "      <td>...</td>\n",
       "      <td>1.0</td>\n",
       "      <td>0.0</td>\n",
       "      <td>2.0</td>\n",
       "      <td>3.0</td>\n",
       "      <td>0.0</td>\n",
       "      <td>0.0</td>\n",
       "      <td>0.0</td>\n",
       "      <td>11.0</td>\n",
       "      <td>5.0</td>\n",
       "      <td>4.0</td>\n",
       "    </tr>\n",
       "  </tbody>\n",
       "</table>\n",
       "<p>5 rows × 22 columns</p>\n",
       "</div>"
      ],
      "text/plain": [
       "   Diabetes  High Blood Pressure  High Cholesterol  Cholesterol Check   BMI  \\\n",
       "0       0.0                  1.0               1.0                1.0  40.0   \n",
       "1       0.0                  0.0               0.0                0.0  25.0   \n",
       "2       0.0                  1.0               1.0                1.0  28.0   \n",
       "3       0.0                  1.0               0.0                1.0  27.0   \n",
       "4       0.0                  1.0               1.0                1.0  24.0   \n",
       "\n",
       "   Smoking History  Stroke  Heart Disease or Attack  Physical Activity  \\\n",
       "0              1.0     0.0                      0.0                0.0   \n",
       "1              1.0     0.0                      0.0                1.0   \n",
       "2              0.0     0.0                      0.0                0.0   \n",
       "3              0.0     0.0                      0.0                1.0   \n",
       "4              0.0     0.0                      0.0                1.0   \n",
       "\n",
       "   Fruits  ...  AnyHealthcare  NoDocbcCost  GenHlth  Mental Health  PhysHlth  \\\n",
       "0     0.0  ...            1.0          0.0      5.0           18.0      15.0   \n",
       "1     0.0  ...            0.0          1.0      3.0            0.0       0.0   \n",
       "2     1.0  ...            1.0          1.0      5.0           30.0      30.0   \n",
       "3     1.0  ...            1.0          0.0      2.0            0.0       0.0   \n",
       "4     1.0  ...            1.0          0.0      2.0            3.0       0.0   \n",
       "\n",
       "   DiffWalk  Sex   Age  Education  Income  \n",
       "0       1.0  0.0   9.0        4.0     3.0  \n",
       "1       0.0  0.0   7.0        6.0     1.0  \n",
       "2       1.0  0.0   9.0        4.0     8.0  \n",
       "3       0.0  0.0  11.0        3.0     6.0  \n",
       "4       0.0  0.0  11.0        5.0     4.0  \n",
       "\n",
       "[5 rows x 22 columns]"
      ]
     },
     "execution_count": 4,
     "metadata": {},
     "output_type": "execute_result"
    }
   ],
   "source": [
    "data = data.rename(columns = {\"Diabetes_binary\": \"Diabetes\", \"HighBP\": \"High Blood Pressure\", \"HighChol\" : \"High Cholesterol\", \"CholCheck\": \"Cholesterol Check\", \"Smoker\": \"Smoking History\", \"HeartDiseaseorAttack\": \"Heart Disease or Attack\", \"PhysActivity\": \"Physical Activity\", \"HvyAlcoholConsump\": \"Heavy Alcohol Consumption\", \"MentHlth\": \"Mental Health\"})\n",
    "data.head()"
   ]
  },
  {
   "attachments": {},
   "cell_type": "markdown",
   "metadata": {},
   "source": [
    "We replaced the values in the Boolean columns with the actual Boolean values"
   ]
  },
  {
   "cell_type": "code",
   "execution_count": 5,
   "metadata": {},
   "outputs": [],
   "source": [
    "data[\"Diabetes\"] = data[\"Diabetes\"].replace((0.0, 1.0), (False, True))\n",
    "data[\"High Blood Pressure\"] = data[\"High Blood Pressure\"].replace((0.0, 1.0), (False, True))\n",
    "data[\"High Cholesterol\"] = data[\"High Cholesterol\"].replace((0.0, 1.0), (False, True))\n",
    "data[\"Cholesterol Check\"] = data[\"Cholesterol Check\"].replace((0.0, 1.0), (False, True))\n",
    "data[\"Smoking History\"] = data[\"Smoking History\"].replace((0.0, 1.0), (False, True))\n",
    "data[\"Physical Activity\"] = data[\"Physical Activity\"].replace((0.0, 1.0), (False, True))\n",
    "data[\"Heavy Alcohol Consumption\"] = data[\"Heavy Alcohol Consumption\"].replace((0.0, 1.0), (False, True))\n",
    "data[\"Heavy Alcohol Consumption\"] = data[\"Heavy Alcohol Consumption\"].replace((0.0, 1.0), (False, True))\n",
    "data[\"Sex\"] = data[\"Sex\"].replace((0.0, 1.0), (\"Female\", \"Male\"))"
   ]
  },
  {
   "attachments": {},
   "cell_type": "markdown",
   "metadata": {},
   "source": [
    "Lastly, let's take a look at all the values and there counts for each of the columns of the dataframe in order to check if there is anything out of the ordinary that might signify an issue"
   ]
  },
  {
   "cell_type": "code",
   "execution_count": null,
   "metadata": {},
   "outputs": [
    {
     "data": {
      "text/plain": [
       "0.0    218334\n",
       "1.0     35346\n",
       "Name: Diabetes, dtype: int64"
      ]
     },
     "metadata": {},
     "output_type": "display_data"
    }
   ],
   "source": [
    "data['Diabetes'].value_counts()"
   ]
  },
  {
   "cell_type": "code",
   "execution_count": null,
   "metadata": {},
   "outputs": [
    {
     "data": {
      "text/plain": [
       "0.0    144851\n",
       "1.0    108829\n",
       "Name: High Blood Pressure, dtype: int64"
      ]
     },
     "metadata": {},
     "output_type": "display_data"
    }
   ],
   "source": [
    "data['High Blood Pressure'].value_counts()"
   ]
  },
  {
   "cell_type": "code",
   "execution_count": null,
   "metadata": {},
   "outputs": [
    {
     "data": {
      "text/plain": [
       "0.0    146089\n",
       "1.0    107591\n",
       "Name: High Cholesterol, dtype: int64"
      ]
     },
     "metadata": {},
     "output_type": "display_data"
    }
   ],
   "source": [
    "data['High Cholesterol'].value_counts()"
   ]
  },
  {
   "cell_type": "code",
   "execution_count": null,
   "metadata": {},
   "outputs": [
    {
     "data": {
      "text/plain": [
       "1.0    244210\n",
       "0.0      9470\n",
       "Name: Cholesterol Check, dtype: int64"
      ]
     },
     "metadata": {},
     "output_type": "display_data"
    }
   ],
   "source": [
    "data['Cholesterol Check'].value_counts()"
   ]
  },
  {
   "cell_type": "code",
   "execution_count": null,
   "metadata": {},
   "outputs": [
    {
     "data": {
      "text/plain": [
       "27.0    24606\n",
       "26.0    20562\n",
       "24.0    19550\n",
       "25.0    17146\n",
       "28.0    16545\n",
       "        ...  \n",
       "85.0        1\n",
       "91.0        1\n",
       "86.0        1\n",
       "90.0        1\n",
       "78.0        1\n",
       "Name: BMI, Length: 84, dtype: int64"
      ]
     },
     "metadata": {},
     "output_type": "display_data"
    }
   ],
   "source": [
    "data['BMI'].value_counts()"
   ]
  },
  {
   "cell_type": "code",
   "execution_count": null,
   "metadata": {},
   "outputs": [
    {
     "data": {
      "text/plain": [
       "0.0    141257\n",
       "1.0    112423\n",
       "Name: Smoking History, dtype: int64"
      ]
     },
     "metadata": {},
     "output_type": "display_data"
    }
   ],
   "source": [
    "data['Smoking History'].value_counts()"
   ]
  },
  {
   "cell_type": "code",
   "execution_count": null,
   "metadata": {},
   "outputs": [
    {
     "data": {
      "text/plain": [
       "1.0    191920\n",
       "0.0     61760\n",
       "Name: Physical Activity, dtype: int64"
      ]
     },
     "metadata": {},
     "output_type": "display_data"
    }
   ],
   "source": [
    "data['Physical Activity'].value_counts()"
   ]
  },
  {
   "cell_type": "code",
   "execution_count": null,
   "metadata": {},
   "outputs": [
    {
     "data": {
      "text/plain": [
       "0.0    239424\n",
       "1.0     14256\n",
       "Name: Heavy Alcohol Consumption, dtype: int64"
      ]
     },
     "metadata": {},
     "output_type": "display_data"
    }
   ],
   "source": [
    "data['Heavy Alcohol Consumption'].value_counts()"
   ]
  },
  {
   "cell_type": "code",
   "execution_count": null,
   "metadata": {},
   "outputs": [
    {
     "data": {
      "text/plain": [
       "0.0    141974\n",
       "1.0    111706\n",
       "Name: Sex, dtype: int64"
      ]
     },
     "metadata": {},
     "output_type": "display_data"
    }
   ],
   "source": [
    "data['Sex'].value_counts()"
   ]
  },
  {
   "cell_type": "code",
   "execution_count": null,
   "metadata": {},
   "outputs": [
    {
     "data": {
      "text/plain": [
       "9.0     33244\n",
       "10.0    32194\n",
       "8.0     30832\n",
       "7.0     26314\n",
       "11.0    23533\n",
       "6.0     19819\n",
       "13.0    17363\n",
       "5.0     16157\n",
       "12.0    15980\n",
       "4.0     13823\n",
       "3.0     11123\n",
       "2.0      7598\n",
       "1.0      5700\n",
       "Name: Age, dtype: int64"
      ]
     },
     "metadata": {},
     "output_type": "display_data"
    }
   ],
   "source": [
    "data['Age'].value_counts()"
   ]
  },
  {
   "cell_type": "code",
   "execution_count": null,
   "metadata": {},
   "outputs": [
    {
     "data": {
      "text/plain": [
       "8.0    90385\n",
       "7.0    43219\n",
       "6.0    36470\n",
       "5.0    25883\n",
       "4.0    20135\n",
       "3.0    15994\n",
       "2.0    11783\n",
       "1.0     9811\n",
       "Name: Income, dtype: int64"
      ]
     },
     "metadata": {},
     "output_type": "display_data"
    }
   ],
   "source": [
    "data['Income'].value_counts()"
   ]
  },
  {
   "attachments": {},
   "cell_type": "markdown",
   "metadata": {},
   "source": [
    "# Data Analysis & Results"
   ]
  },
  {
   "attachments": {},
   "cell_type": "markdown",
   "metadata": {},
   "source": [
    "After all of our cleaning, let's take a look at the dataset."
   ]
  },
  {
   "cell_type": "code",
   "execution_count": null,
   "metadata": {},
   "outputs": [
    {
     "data": {
      "text/html": [
       "<div>\n",
       "<style scoped>\n",
       "    .dataframe tbody tr th:only-of-type {\n",
       "        vertical-align: middle;\n",
       "    }\n",
       "\n",
       "    .dataframe tbody tr th {\n",
       "        vertical-align: top;\n",
       "    }\n",
       "\n",
       "    .dataframe thead th {\n",
       "        text-align: right;\n",
       "    }\n",
       "</style>\n",
       "<table border=\"1\" class=\"dataframe\">\n",
       "  <thead>\n",
       "    <tr style=\"text-align: right;\">\n",
       "      <th></th>\n",
       "      <th>Diabetes</th>\n",
       "      <th>High Blood Pressure</th>\n",
       "      <th>High Cholesterol</th>\n",
       "      <th>Cholesterol Check</th>\n",
       "      <th>BMI</th>\n",
       "      <th>Smoking History</th>\n",
       "      <th>Stroke</th>\n",
       "      <th>Heart Disease or Attack</th>\n",
       "      <th>Physical Activity</th>\n",
       "      <th>Heavy Alcohol Consumption</th>\n",
       "      <th>Mental Health</th>\n",
       "      <th>Sex</th>\n",
       "      <th>Age</th>\n",
       "      <th>Income</th>\n",
       "    </tr>\n",
       "  </thead>\n",
       "  <tbody>\n",
       "    <tr>\n",
       "      <th>count</th>\n",
       "      <td>253680.000000</td>\n",
       "      <td>253680.000000</td>\n",
       "      <td>253680.000000</td>\n",
       "      <td>253680.000000</td>\n",
       "      <td>253680.000000</td>\n",
       "      <td>253680.000000</td>\n",
       "      <td>253680.000000</td>\n",
       "      <td>253680.000000</td>\n",
       "      <td>253680.000000</td>\n",
       "      <td>253680.000000</td>\n",
       "      <td>253680.000000</td>\n",
       "      <td>253680.000000</td>\n",
       "      <td>253680.000000</td>\n",
       "      <td>253680.000000</td>\n",
       "    </tr>\n",
       "    <tr>\n",
       "      <th>mean</th>\n",
       "      <td>0.139333</td>\n",
       "      <td>0.429001</td>\n",
       "      <td>0.424121</td>\n",
       "      <td>0.962670</td>\n",
       "      <td>28.382364</td>\n",
       "      <td>0.443169</td>\n",
       "      <td>0.040571</td>\n",
       "      <td>0.094186</td>\n",
       "      <td>0.756544</td>\n",
       "      <td>0.056197</td>\n",
       "      <td>3.184772</td>\n",
       "      <td>0.440342</td>\n",
       "      <td>8.032119</td>\n",
       "      <td>6.053875</td>\n",
       "    </tr>\n",
       "    <tr>\n",
       "      <th>std</th>\n",
       "      <td>0.346294</td>\n",
       "      <td>0.494934</td>\n",
       "      <td>0.494210</td>\n",
       "      <td>0.189571</td>\n",
       "      <td>6.608694</td>\n",
       "      <td>0.496761</td>\n",
       "      <td>0.197294</td>\n",
       "      <td>0.292087</td>\n",
       "      <td>0.429169</td>\n",
       "      <td>0.230302</td>\n",
       "      <td>7.412847</td>\n",
       "      <td>0.496429</td>\n",
       "      <td>3.054220</td>\n",
       "      <td>2.071148</td>\n",
       "    </tr>\n",
       "    <tr>\n",
       "      <th>min</th>\n",
       "      <td>0.000000</td>\n",
       "      <td>0.000000</td>\n",
       "      <td>0.000000</td>\n",
       "      <td>0.000000</td>\n",
       "      <td>12.000000</td>\n",
       "      <td>0.000000</td>\n",
       "      <td>0.000000</td>\n",
       "      <td>0.000000</td>\n",
       "      <td>0.000000</td>\n",
       "      <td>0.000000</td>\n",
       "      <td>0.000000</td>\n",
       "      <td>0.000000</td>\n",
       "      <td>1.000000</td>\n",
       "      <td>1.000000</td>\n",
       "    </tr>\n",
       "    <tr>\n",
       "      <th>25%</th>\n",
       "      <td>0.000000</td>\n",
       "      <td>0.000000</td>\n",
       "      <td>0.000000</td>\n",
       "      <td>1.000000</td>\n",
       "      <td>24.000000</td>\n",
       "      <td>0.000000</td>\n",
       "      <td>0.000000</td>\n",
       "      <td>0.000000</td>\n",
       "      <td>1.000000</td>\n",
       "      <td>0.000000</td>\n",
       "      <td>0.000000</td>\n",
       "      <td>0.000000</td>\n",
       "      <td>6.000000</td>\n",
       "      <td>5.000000</td>\n",
       "    </tr>\n",
       "    <tr>\n",
       "      <th>50%</th>\n",
       "      <td>0.000000</td>\n",
       "      <td>0.000000</td>\n",
       "      <td>0.000000</td>\n",
       "      <td>1.000000</td>\n",
       "      <td>27.000000</td>\n",
       "      <td>0.000000</td>\n",
       "      <td>0.000000</td>\n",
       "      <td>0.000000</td>\n",
       "      <td>1.000000</td>\n",
       "      <td>0.000000</td>\n",
       "      <td>0.000000</td>\n",
       "      <td>0.000000</td>\n",
       "      <td>8.000000</td>\n",
       "      <td>7.000000</td>\n",
       "    </tr>\n",
       "    <tr>\n",
       "      <th>75%</th>\n",
       "      <td>0.000000</td>\n",
       "      <td>1.000000</td>\n",
       "      <td>1.000000</td>\n",
       "      <td>1.000000</td>\n",
       "      <td>31.000000</td>\n",
       "      <td>1.000000</td>\n",
       "      <td>0.000000</td>\n",
       "      <td>0.000000</td>\n",
       "      <td>1.000000</td>\n",
       "      <td>0.000000</td>\n",
       "      <td>2.000000</td>\n",
       "      <td>1.000000</td>\n",
       "      <td>10.000000</td>\n",
       "      <td>8.000000</td>\n",
       "    </tr>\n",
       "    <tr>\n",
       "      <th>max</th>\n",
       "      <td>1.000000</td>\n",
       "      <td>1.000000</td>\n",
       "      <td>1.000000</td>\n",
       "      <td>1.000000</td>\n",
       "      <td>98.000000</td>\n",
       "      <td>1.000000</td>\n",
       "      <td>1.000000</td>\n",
       "      <td>1.000000</td>\n",
       "      <td>1.000000</td>\n",
       "      <td>1.000000</td>\n",
       "      <td>30.000000</td>\n",
       "      <td>1.000000</td>\n",
       "      <td>13.000000</td>\n",
       "      <td>8.000000</td>\n",
       "    </tr>\n",
       "  </tbody>\n",
       "</table>\n",
       "</div>"
      ],
      "text/plain": [
       "            Diabetes  High Blood Pressure  High Cholesterol  \\\n",
       "count  253680.000000        253680.000000     253680.000000   \n",
       "mean        0.139333             0.429001          0.424121   \n",
       "std         0.346294             0.494934          0.494210   \n",
       "min         0.000000             0.000000          0.000000   \n",
       "25%         0.000000             0.000000          0.000000   \n",
       "50%         0.000000             0.000000          0.000000   \n",
       "75%         0.000000             1.000000          1.000000   \n",
       "max         1.000000             1.000000          1.000000   \n",
       "\n",
       "       Cholesterol Check            BMI  Smoking History         Stroke  \\\n",
       "count      253680.000000  253680.000000    253680.000000  253680.000000   \n",
       "mean            0.962670      28.382364         0.443169       0.040571   \n",
       "std             0.189571       6.608694         0.496761       0.197294   \n",
       "min             0.000000      12.000000         0.000000       0.000000   \n",
       "25%             1.000000      24.000000         0.000000       0.000000   \n",
       "50%             1.000000      27.000000         0.000000       0.000000   \n",
       "75%             1.000000      31.000000         1.000000       0.000000   \n",
       "max             1.000000      98.000000         1.000000       1.000000   \n",
       "\n",
       "       Heart Disease or Attack  Physical Activity  Heavy Alcohol Consumption  \\\n",
       "count            253680.000000      253680.000000              253680.000000   \n",
       "mean                  0.094186           0.756544                   0.056197   \n",
       "std                   0.292087           0.429169                   0.230302   \n",
       "min                   0.000000           0.000000                   0.000000   \n",
       "25%                   0.000000           1.000000                   0.000000   \n",
       "50%                   0.000000           1.000000                   0.000000   \n",
       "75%                   0.000000           1.000000                   0.000000   \n",
       "max                   1.000000           1.000000                   1.000000   \n",
       "\n",
       "       Mental Health            Sex            Age         Income  \n",
       "count  253680.000000  253680.000000  253680.000000  253680.000000  \n",
       "mean        3.184772       0.440342       8.032119       6.053875  \n",
       "std         7.412847       0.496429       3.054220       2.071148  \n",
       "min         0.000000       0.000000       1.000000       1.000000  \n",
       "25%         0.000000       0.000000       6.000000       5.000000  \n",
       "50%         0.000000       0.000000       8.000000       7.000000  \n",
       "75%         2.000000       1.000000      10.000000       8.000000  \n",
       "max        30.000000       1.000000      13.000000       8.000000  "
      ]
     },
     "metadata": {},
     "output_type": "display_data"
    }
   ],
   "source": [
    "data.describe()"
   ]
  },
  {
   "attachments": {},
   "cell_type": "markdown",
   "metadata": {},
   "source": [
    "In order to judge the relationship between BMI and diabetes, we first plotted the distribution of all the BMIs to see the overall data."
   ]
  },
  {
   "cell_type": "code",
   "execution_count": 8,
   "metadata": {},
   "outputs": [
    {
     "data": {
      "image/png": "[encoded data removed]",
      "text/plain": [
       "<Figure size 640x480 with 1 Axes>"
      ]
     },
     "metadata": {},
     "output_type": "display_data"
    }
   ],
   "source": [
    "sns.countplot(x = \"BMI\", data = data)\n",
    "plt.title('Number of Respondants at Each BMI Level')\n",
    "plt.ylabel('Count')\n",
    "plt.xticks(np.arange(0, 100, 10))\n",
    "plt.show()"
   ]
  },
  {
   "attachments": {},
   "cell_type": "markdown",
   "metadata": {},
   "source": [
    "Now, we can look at the BMIs of the dataset based on if the person has diabetes or prediabetes, and we can see that there is a significant increase in BMI for people with diabetes or prediabetes. This supports our hypothesis that BMI is one of the most significant factors causing diabetes."
   ]
  },
  {
   "cell_type": "code",
   "execution_count": 9,
   "metadata": {},
   "outputs": [
    {
     "data": {
      "image/png": "[encoded data removed]",
      "text/plain": [
       "<Figure size 640x480 with 1 Axes>"
      ]
     },
     "metadata": {},
     "output_type": "display_data"
    }
   ],
   "source": [
    "sns.boxplot(x = \"Diabetes\", y = \"BMI\", data = data).set(title='Distribution of BMIs Based on Diabetic Condition')\n",
    "plt.show()"
   ]
  },
  {
   "attachments": {},
   "cell_type": "markdown",
   "metadata": {},
   "source": [
    "The next part of our hypothesis was that High Blood Pressure was another important indicator of diabetes or prediabetes. We decided to plot the number of people with diabetes who have High Blood Pressure, High Cholesterol, Both and Neither to help with our analysis."
   ]
  },
  {
   "cell_type": "code",
   "execution_count": 22,
   "metadata": {},
   "outputs": [
    {
     "data": {
      "image/png": "[encoded data removed]",
      "text/plain": [
       "<Figure size 640x480 with 1 Axes>"
      ]
     },
     "metadata": {},
     "output_type": "display_data"
    }
   ],
   "source": [
    "bp_chol = data[data[\"Diabetes\"] == True]\n",
    "bp_chol = bp_chol[[\"High Blood Pressure\", \"High Cholesterol\"]]\n",
    "\n",
    "bp_chol[\"Label\"] = \"None\"\n",
    "bp_chol.loc[(bp_chol[\"High Blood Pressure\"] == True) & (bp_chol[\"High Cholesterol\"] == False), \"Label\"] = \"High Blood Pressure\"\n",
    "bp_chol.loc[(bp_chol[\"High Blood Pressure\"] == False) & (bp_chol[\"High Cholesterol\"] == True), \"Label\"] = \"High Cholesterol\"\n",
    "bp_chol.loc[(bp_chol[\"High Blood Pressure\"] == True) & (bp_chol[\"High Cholesterol\"] == True), \"Label\"] = \"Both\"\n",
    "\n",
    "sns.countplot(x = \"Label\", data = bp_chol, order = [\"None\", \"High Blood Pressure\", \"High Cholesterol\", \"Both\"]).set(xlabel='Health Factors', ylabel='Count',title='Health Conditions of Diabetic Respondents')\n",
    "plt.show()"
   ]
  },
  {
   "attachments": {},
   "cell_type": "markdown",
   "metadata": {},
   "source": [
    "As you can see from the above plot, most of the people who have diabetes or prediabetes have both High Blood Pressure and High Cholesterol, which makes a lot of sense. However, when comparing people who only have one or the other, there are more people with diabetes or prediabetes that have High Blood Pressure when compared to High Cholesterol."
   ]
  },
  {
   "attachments": {},
   "cell_type": "markdown",
   "metadata": {},
   "source": [
    "To examine more of the variables in the dataset, we combined Smoking History, Physical Activity, and Heavy Alcohol Consumption as they all represented the respondents' overall lifestyle. First off, we simply plotted a barplot of the percentage of people who do and don't have diabetes or prediabetes in comparison to them being Healthy or Unhealthy. We labeled Healthy people as those who did not have a smoking history, did physical activity relatively regularly, and did not have heavy alcohol consumption. As we would expect, people labeled as Healthy were far less likely to have diabetes than those that were labeled as Unhealthy, but the gap was not as large as we expected."
   ]
  },
  {
   "cell_type": "code",
   "execution_count": 13,
   "metadata": {},
   "outputs": [
    {
     "name": "stderr",
     "output_type": "stream",
     "text": [
      "C:\\Users\\rishm\\AppData\\Local\\Temp\\ipykernel_34864\\3932322081.py:3: SettingWithCopyWarning: \n",
      "A value is trying to be set on a copy of a slice from a DataFrame.\n",
      "Try using .loc[row_indexer,col_indexer] = value instead\n",
      "\n",
      "See the caveats in the documentation: https://pandas.pydata.org/pandas-docs/stable/user_guide/indexing.html#returning-a-view-versus-a-copy\n",
      "  temp[\"Label\"] = \"Unhealthy\"\n"
     ]
    },
    {
     "data": {
      "image/png": "[encoded data removed]",
      "text/plain": [
       "<Figure size 640x480 with 1 Axes>"
      ]
     },
     "metadata": {},
     "output_type": "display_data"
    }
   ],
   "source": [
    "temp = data[[\"Diabetes\", \"Smoking History\", \"Physical Activity\", \"Heavy Alcohol Consumption\"]]\n",
    "\n",
    "temp[\"Label\"] = \"Unhealthy\"\n",
    "temp.loc[(temp[\"Smoking History\"] == False) & (temp[\"Physical Activity\"] == True) & (temp[\"Heavy Alcohol Consumption\"] == False), \"Label\"] = \"Healthy\"\n",
    "\n",
    "temp = temp.groupby(\"Diabetes\")[\"Label\"].value_counts(normalize = True).rename(\"Proportion\").reset_index()\n",
    "\n",
    "sns.barplot(x = \"Label\", y = \"Proportion\", data = temp, hue = \"Diabetes\", order = [\"Healthy\", \"Unhealthy\"]).set(xlabel='Lifestyle Choices', title='Lifestyle Choices Proportional to Diabetic Condition')\n",
    "plt.show()"
   ]
  },
  {
   "attachments": {},
   "cell_type": "markdown",
   "metadata": {},
   "source": [
    "Diving a bit deeper, we divided the Unhealthy respondents into groups based on how unhealthy they were. We created groups of 1/3, 2/3, and 3/3 of how many factors were unhealthy for them, from the group of Smoking History, Physical Activity, and Heavy Alcohol Consumption. We expected to see a steady increase in the percentage of people who had diabetes or prediabetes as we went from 0/3 to 3/3."
   ]
  },
  {
   "cell_type": "code",
   "execution_count": 14,
   "metadata": {},
   "outputs": [
    {
     "name": "stderr",
     "output_type": "stream",
     "text": [
      "C:\\Users\\rishm\\AppData\\Local\\Temp\\ipykernel_34864\\3406686360.py:3: SettingWithCopyWarning: \n",
      "A value is trying to be set on a copy of a slice from a DataFrame.\n",
      "Try using .loc[row_indexer,col_indexer] = value instead\n",
      "\n",
      "See the caveats in the documentation: https://pandas.pydata.org/pandas-docs/stable/user_guide/indexing.html#returning-a-view-versus-a-copy\n",
      "  lifestyle[\"Label\"] = \"3 / 3\"\n"
     ]
    },
    {
     "data": {
      "image/png": "[encoded data removed]",
      "text/plain": [
       "<Figure size 640x480 with 1 Axes>"
      ]
     },
     "metadata": {},
     "output_type": "display_data"
    }
   ],
   "source": [
    "lifestyle = data[[\"Diabetes\", \"Smoking History\", \"Physical Activity\", \"Heavy Alcohol Consumption\"]]\n",
    "\n",
    "lifestyle[\"Label\"] = \"3 / 3\"\n",
    "lifestyle.loc[(lifestyle[\"Smoking History\"] == False) & (lifestyle[\"Physical Activity\"] == True) & (lifestyle[\"Heavy Alcohol Consumption\"] == False), \"Label\"] = \"0 / 3\"\n",
    "\n",
    "lifestyle.loc[(lifestyle[\"Smoking History\"] == True) & (lifestyle[\"Physical Activity\"] == True) & (lifestyle[\"Heavy Alcohol Consumption\"] == False), \"Label\"] = \"1 / 3\"\n",
    "lifestyle.loc[(lifestyle[\"Smoking History\"] == False) & (lifestyle[\"Physical Activity\"] == False) & (lifestyle[\"Heavy Alcohol Consumption\"] == False), \"Label\"] = \"1 / 3\"\n",
    "lifestyle.loc[(lifestyle[\"Smoking History\"] == False) & (lifestyle[\"Physical Activity\"] == True) & (lifestyle[\"Heavy Alcohol Consumption\"] == True), \"Label\"] = \"1 / 3\"\n",
    "\n",
    "lifestyle.loc[(lifestyle[\"Smoking History\"] == False) & (lifestyle[\"Physical Activity\"] == False) & (lifestyle[\"Heavy Alcohol Consumption\"] == True), \"Label\"] = \"2 / 3\"\n",
    "lifestyle.loc[(lifestyle[\"Smoking History\"] == True) & (lifestyle[\"Physical Activity\"] == True) & (lifestyle[\"Heavy Alcohol Consumption\"] == True), \"Label\"] = \"2 / 3\"\n",
    "lifestyle.loc[(lifestyle[\"Smoking History\"] == True) & (lifestyle[\"Physical Activity\"] == False) & (lifestyle[\"Heavy Alcohol Consumption\"] == False), \"Label\"] = \"2 / 3\"\n",
    "\n",
    "lifestyle = lifestyle.groupby(\"Label\")[\"Diabetes\"].value_counts(normalize = True).rename(\"Proportion\").reset_index()\n",
    "\n",
    "sns.barplot(x = \"Label\", y = \"Proportion\", hue = \"Diabetes\", data = lifestyle).set(xlabel='Lifestyle Choices', title='Specific Lifestyle Choices Proportional to Diabetic Condition')\n",
    "plt.show()"
   ]
  },
  {
   "attachments": {},
   "cell_type": "markdown",
   "metadata": {},
   "source": [
    "The results were not exactly what we expected as the percentage of people who had 3/3 unhealthy factors and had diabetes or prediabetes was actually less than the percentage of people with 0/3 and diabetes or prediabetes. We think part of this is due to the fact that there was not a large sample size of people with 3/3 unhealthy factors, but it was still rather surprising."
   ]
  },
  {
   "attachments": {},
   "cell_type": "markdown",
   "metadata": {},
   "source": [
    "Finally, we plotted the percentage of people who had diabetes based on Smoking History, and the results showed that people who had a smoking history were more likely to have diabetes or prediabetes, which was not surprising. However, the difference was not as large as we expected, which is starting to become a theme."
   ]
  },
  {
   "cell_type": "code",
   "execution_count": 15,
   "metadata": {},
   "outputs": [
    {
     "data": {
      "image/png": "[encoded data removed]",
      "text/plain": [
       "<Figure size 640x480 with 1 Axes>"
      ]
     },
     "metadata": {},
     "output_type": "display_data"
    }
   ],
   "source": [
    "smoking_df = data.groupby(\"Diabetes\")[\"Smoking History\"].value_counts(normalize = True).rename(\"Proportion\").reset_index()\n",
    "\n",
    "sns.barplot(x = \"Smoking History\", y = \"Proportion\", hue = \"Diabetes\", data = smoking_df).set(title='Smoking History Proportional to Diabetic Condition')\n",
    "plt.show()"
   ]
  },
  {
   "attachments": {},
   "cell_type": "markdown",
   "metadata": {},
   "source": [
    "Finally, to address the last part of our hypothesis we plotted the percentage of respondents who had diabetes or prediabetes based on income. We hypothesized that people with lower income would have higher chances of having diabetes or prediabetes and people with higher income would have lower chances. The graph below shows that exact relationship that we predicted, but the gap was much larger than we expected for once, especially for income group 8, which consisted of nearly 40% of all respondents who did not have diabetes."
   ]
  },
  {
   "cell_type": "code",
   "execution_count": 16,
   "metadata": {},
   "outputs": [
    {
     "data": {
      "image/png": "[encoded data removed]",
      "text/plain": [
       "<Figure size 640x480 with 1 Axes>"
      ]
     },
     "metadata": {},
     "output_type": "display_data"
    }
   ],
   "source": [
    "income_df = data.groupby(\"Diabetes\")[\"Income\"].value_counts(normalize = True).rename(\"Proportion\").reset_index()\n",
    "\n",
    "sns.barplot(x = \"Income\", y = \"Proportion\", hue = \"Diabetes\", data = income_df).set(title='Income Proportional to Diabetic Condition')\n",
    "plt.show()"
   ]
  },
  {
   "attachments": {},
   "cell_type": "markdown",
   "metadata": {},
   "source": [
    "We were interested to see if Age was possibly a confounding variable in this analysis because age has a significant impact on income, as we can see from the graph below."
   ]
  },
  {
   "cell_type": "code",
   "execution_count": 6,
   "metadata": {},
   "outputs": [
    {
     "name": "stderr",
     "output_type": "stream",
     "text": [
      "C:\\Users\\rishm\\AppData\\Local\\Temp\\ipykernel_42544\\2396857767.py:2: MatplotlibDeprecationWarning: Passing the emit parameter of set_ylim() positionally is deprecated since Matplotlib 3.6; the parameter will become keyword-only two minor releases later.\n",
      "  plt.ylim(0, 8, 1)\n"
     ]
    },
    {
     "data": {
      "image/png": "[encoded data removed]",
      "text/plain": [
       "<Figure size 640x480 with 1 Axes>"
      ]
     },
     "metadata": {},
     "output_type": "display_data"
    }
   ],
   "source": [
    "sns.lineplot(x = \"Age\", y = \"Income\", data = data).set(title='Income Based on Age')\n",
    "plt.ylim(0, 8, 1)\n",
    "plt.show()"
   ]
  },
  {
   "attachments": {},
   "cell_type": "markdown",
   "metadata": {},
   "source": [
    "In order to get a baseline understanding of how Age impacts chances of getting diabetes or prediabetes, we plotted the percentage of people with those diagnoses based on age, and we found that older people are much, much more likely to get diabetes or prediabetes than younger people, as we would expect."
   ]
  },
  {
   "cell_type": "code",
   "execution_count": 18,
   "metadata": {},
   "outputs": [
    {
     "data": {
      "image/png": "[encoded data removed]",
      "text/plain": [
       "<Figure size 640x480 with 1 Axes>"
      ]
     },
     "metadata": {},
     "output_type": "display_data"
    }
   ],
   "source": [
    "age_df = data.groupby(\"Diabetes\")[\"Age\"].value_counts(normalize = True).rename(\"Proportion\").reset_index()\n",
    "\n",
    "sns.barplot(x = \"Age\", y = \"Proportion\", hue = \"Diabetes\", data = age_df).set(title='Age Proportional to Diabetic Condition')\n",
    "plt.show()"
   ]
  },
  {
   "attachments": {},
   "cell_type": "markdown",
   "metadata": {},
   "source": [
    "Based on this information, we wanted to try to determine if Age was a confounding variable in the Income plot we saw earlier. As such, we plotted the age distributions of people in income group 8, which is an income over $75,000 per year, and income group 2, which is $10,000 - $15,000, which were the two income groups with the largest differences in percentage of people with and without diabetes from the earlier graph."
   ]
  },
  {
   "cell_type": "code",
   "execution_count": 20,
   "metadata": {},
   "outputs": [
    {
     "data": {
      "image/png": "[encoded data removed]",
      "text/plain": [
       "<Figure size 640x480 with 1 Axes>"
      ]
     },
     "metadata": {},
     "output_type": "display_data"
    }
   ],
   "source": [
    "income8 = data[data[\"Income\"] == 8]\n",
    "sns.countplot(x = \"Age\", data = income8).set(ylabel='Count', title='Age in Income Group 8')\n",
    "plt.show()"
   ]
  },
  {
   "cell_type": "code",
   "execution_count": 21,
   "metadata": {},
   "outputs": [
    {
     "data": {
      "image/png": "[encoded data removed]",
      "text/plain": [
       "<Figure size 640x480 with 1 Axes>"
      ]
     },
     "metadata": {},
     "output_type": "display_data"
    }
   ],
   "source": [
    "income2 = data[data[\"Income\"] == 2]\n",
    "sns.countplot(x = \"Age\", data = income2).set(ylabel='Count', title='Age in Income Group 2')\n",
    "plt.show()"
   ]
  },
  {
   "attachments": {},
   "cell_type": "markdown",
   "metadata": {},
   "source": [
    "The results for income group 8 were fairly normally distributed, with a slight leaning towards the younger side. In stark contrast, the people in income group 2 were much older. Since we know that older people are much more likely to have diabetes or prediabetes, these graphs suggest that Age could be a confounding variable when we were considering Income."
   ]
  },
  {
   "attachments": {},
   "cell_type": "markdown",
   "metadata": {},
   "source": [
    "In order to quantifiably prove that there is a relationship between Income and Age, we created a linear model between Age and Income and found that the slope is about -0.0866 and 0 is not included in the confidence interval, between 0.025 and 0.975, of the slope. This means that there is a relationship between Age and Income, which again suggests that Age could be a confounding variable when examining the relationship between Income and diabetes."
   ]
  },
  {
   "cell_type": "code",
   "execution_count": 56,
   "metadata": {},
   "outputs": [
    {
     "name": "stdout",
     "output_type": "stream",
     "text": [
      "                            OLS Regression Results                            \n",
      "==============================================================================\n",
      "Dep. Variable:                 Income   R-squared:                       0.016\n",
      "Model:                            OLS   Adj. R-squared:                  0.016\n",
      "Method:                 Least Squares   F-statistic:                     4210.\n",
      "Date:                Tue, 13 Jun 2023   Prob (F-statistic):               0.00\n",
      "Time:                        23:20:55   Log-Likelihood:            -5.4257e+05\n",
      "No. Observations:              253680   AIC:                         1.085e+06\n",
      "Df Residuals:                  253678   BIC:                         1.085e+06\n",
      "Df Model:                           1                                         \n",
      "Covariance Type:            nonrobust                                         \n",
      "==============================================================================\n",
      "                 coef    std err          t      P>|t|      [0.025      0.975]\n",
      "------------------------------------------------------------------------------\n",
      "Intercept      6.7498      0.011    588.225      0.000       6.727       6.772\n",
      "Age           -0.0866      0.001    -64.888      0.000      -0.089      -0.084\n",
      "==============================================================================\n",
      "Omnibus:                    26763.572   Durbin-Watson:                   1.861\n",
      "Prob(Omnibus):                  0.000   Jarque-Bera (JB):            36091.579\n",
      "Skew:                          -0.921   Prob(JB):                         0.00\n",
      "Kurtosis:                       2.841   Cond. No.                         24.5\n",
      "==============================================================================\n",
      "\n",
      "Notes:\n",
      "[1] Standard Errors assume that the covariance matrix of the errors is correctly specified.\n"
     ]
    }
   ],
   "source": [
    "outcome, predictors = patsy.dmatrices(\"Income ~ Age\", data = data)\n",
    "mod = sm.OLS(outcome, predictors)\n",
    "res = mod.fit()\n",
    "print(res.summary())"
   ]
  },
  {
   "attachments": {},
   "cell_type": "markdown",
   "metadata": {},
   "source": [
    "# Ethics & Privacy"
   ]
  },
  {
   "attachments": {},
   "cell_type": "markdown",
   "metadata": {},
   "source": [
    "We understand that there can be many biases in our research. For example, our datasets might be focused on just one country or just one race. This can create a bias in our project as limiting the research to a certain population of a country or race will only give information about these specific groups of people. We reduce bias by finding data that includes a large group of people that encompasses worldwide diabetes cases.\n",
    "\n",
    "There’s also the case where data points could be focused on people that already have diabetes instead of a general population of people. To avoid this, we can choose data that encompasses a wider range of people to avoid a “survivor” bias. More specifically, there should be an even split between diabetic and non-diabetic people to have a better proportion of data"
   ]
  },
  {
   "attachments": {},
   "cell_type": "markdown",
   "metadata": {},
   "source": [
    "# Conclusion & Discussion"
   ]
  },
  {
   "attachments": {},
   "cell_type": "markdown",
   "metadata": {},
   "source": [
    "Diabetes is a huge problem for people all around the world, but especially in America, where it is the eighth leading cause of death in the country. We wanted to try to determine what biological, health, and socioeconomic factors were the most indicative of diabetes in this country. We found a dataset from Behavioral Risk Factor Surveillance System (BRFSS) which contained the responses to a health-related survey from 2015. From the many biological, health, and socioeconomic factors that were listed in this dataset, we thought BMI, High Blood Pressure, Smoking History, and Income would be the most indicative of diabetes or prediabetes.\n",
    "\n",
    "Fortunately, the BRFSS dataset we were using did not require much data cleaning because there were no empty columns. The main parts of data cleaning that we did was that we renamed the columns and changed certain values in the columns to be more informative. Then, we moved on to performing Exploratory Data Analysis by creating many different plots of the different factors and their effects on diabetes and each other to determine if our hypothesis was correct. We plotted the overall distribution of BMI in the entire dataset and plotted the distributions separated by diabetic condition, and we found that there was a significant increase in BMI for respondents with diabetes or prediabetes, supporting that part of our hypothesis. Next, we plotted the number of people with diabetes based on whether they had High Blood Pressure, High Cholesterol, Both, or Neither. As expected, the number of people with diabetes and both High Blood Pressure and High Cholesterol was the highest, but the number of people with diabetes and just High Blood Pressure was higher than the number of people with diabetes and just High Cholesterol, supporting our hypothesis. We also examined the effect of lifestyle choices on diabetes, such as Smoking History, Physical Activity, and Heavy Alcohol Consumption. In general, having less healthy lifestyle choices made people more likely to have diabetes or prediabetes, but the proportion of people who were unhealthy in all three categories and still had diabetes was less than those who were just unhealthy in 2/3 categories. We did plot just Smoking History and its effect on diabetes and found a meaningful margin, but it was not as large as we expected. Lastly, we examined the effect of income on diabetes, and we found that people in lower income groups were much more likely to have diabetes than those in higher income groups, which is what we expected. We were interested in determining if Age was a confounding factor in our Income analysis so we plotted the age distributions of different age groups and the effect age had on income. We also created a linear model of income based on age and found that the slope was never 0 in the confidence interval, so we do think Age is a possible confounding factor in the effect of Income on diabetes.\n",
    "\n",
    "Overall, we accept all parts of our hypothesis as BMI, High Blood Pressure, and Smoking History were among the most impactful features on diabetic condition that we examined, although the effect of Smoking History was not as large as we anticipated. Income also seemed to be correlated with respondents having diabetes or prediabetes, but we found that Age could be a confounding factor in that analysis, so we could not determine if Income or Age was more impactful on diabetic condition."
   ]
  },
  {
   "attachments": {},
   "cell_type": "markdown",
   "metadata": {},
   "source": [
    "# Team Contributions"
   ]
  },
  {
   "attachments": {},
   "cell_type": "markdown",
   "metadata": {},
   "source": [
    "Aiden Jee: Hypothesis, Data Cleaning, Data Analysis, Team Contributions, Video Planning\n",
    "\n",
    "Rishmal Rohin Kumar: Background & Prior Work, Setup, Data Analysis, Conclusion & Discussion, Video Presentation\n",
    "\n",
    "Gavin Zhou: Overview, Dataset, Data Analysis, Ethics & Privacy, Video Presentation"
   ]
  }
 ],
 "metadata": {
  "kernelspec": {
   "display_name": "Python 3",
   "language": "python",
   "name": "python3"
  },
  "language_info": {
   "codemirror_mode": {
    "name": "ipython",
    "version": 3
   },
   "file_extension": ".py",
   "mimetype": "text/x-python",
   "name": "python",
   "nbconvert_exporter": "python",
   "pygments_lexer": "ipython3",
   "version": "3.9.13"
  }
 },
 "nbformat": 4,
 "nbformat_minor": 2
}

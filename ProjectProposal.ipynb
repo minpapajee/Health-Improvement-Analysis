{
 "cells": [
  {
   "attachments": {},
   "cell_type": "markdown",
   "metadata": {},
   "source": [
    "# Final Project Proposal"
   ]
  },
  {
   "attachments": {},
   "cell_type": "markdown",
   "metadata": {},
   "source": [
    "# Names\n",
    "\n",
    "- Aiden Jee\n",
    "- Rishmal Rohin Kumar\n",
    "- Gavin Zhou"
   ]
  },
  {
   "attachments": {},
   "cell_type": "markdown",
   "metadata": {},
   "source": [
    "# Research Question"
   ]
  },
  {
   "attachments": {},
   "cell_type": "markdown",
   "metadata": {},
   "source": [
    "Is there are significant relationship between biological and health factors, such age, BMI, blood glucose level, etc., and diabetes?"
   ]
  },
  {
   "attachments": {},
   "cell_type": "markdown",
   "metadata": {},
   "source": [
    "## Background and Prior Work"
   ]
  },
  {
   "attachments": {},
   "cell_type": "markdown",
   "metadata": {},
   "source": [
    "Diabetes is a chronic health disease that affects how your body turns food into energy. Diabetes affects many Americans today, and it is the eighth leading cause of death in America. (1) There are three main types of diabetes: type 1, type 2, and gestational diabetes. With diabetes, the body doesn’t make enough insulin or can’t use it as well as it should. This can lead to serious problems such as heart disease, vision loss, and kidney disease. Diabetes is incurable, but there are many factors that are within human control. (2) That leads us to our question: What are the significant relationships between biological and health factors, such as age, BMI, blood glucose level, etc., and diabetes?\n",
    "\n",
    "There is an abundance of research on the topic, but many prior works are focused on the connection of sociodemographic factors and diabetes. This can be helpful to our research, as many sociodemographic factors are directly correlated to health and biological factors. In fact, one work finds extremely high correlation between low socioeconomic status and diabetes. Low socioeconomic status is also found to be directly related to high body weight and lack of exercise, which supports the idea that obesity is a big factor in diabetes. (3) \n",
    "\n",
    "Other works find many lifestyle factors to be a strong force behind the cause of diabetes. Most notably are lack of exercise, weight, and poor sleep. (4) Our research aims to find other factors that may be helpful in the prevention of diabetes or even the treatment of it. \n",
    "\n",
    "References: \n",
    "1. https://www.mayoclinic.org/diseases-conditions/diabetes/symptoms-causes/syc-20371444\n",
    "2. https://www.cdc.gov/diabetes/basics/diabetes.html \n",
    "3. https://bmcendocrdisord.biomedcentral.com/articles/10.1186/s12902-019-0463-3 \n",
    "4. https://www.ncbi.nlm.nih.gov/pmc/articles/PMC4166864/\n"
   ]
  },
  {
   "attachments": {},
   "cell_type": "markdown",
   "metadata": {},
   "source": [
    "# Hypothesis\n"
   ]
  },
  {
   "attachments": {},
   "cell_type": "markdown",
   "metadata": {},
   "source": [
    "We believe that there is a significant relationship between biological and health factors and diabetes. We think the three most important factors are age, BMI, and blood glucose level."
   ]
  },
  {
   "attachments": {},
   "cell_type": "markdown",
   "metadata": {},
   "source": [
    "# Data"
   ]
  },
  {
   "attachments": {},
   "cell_type": "markdown",
   "metadata": {},
   "source": [
    "1. The ideal dataset that we would want to be able to answer this question is one that includes many biological and health variables, ideally including age, BMI, and blood glucose level, among others. We would like to have numerous observations of both people with diabetes and people without so that we can examine if there truly is a relationship between these variables and having diabetes.\n",
    "2. We have searched for datasets that include these kinds of factors, and we found a great one: https://www.kaggle.com/datasets/iammustafatz/diabetes-prediction-dataset"
   ]
  },
  {
   "attachments": {},
   "cell_type": "markdown",
   "metadata": {},
   "source": [
    "# Ethics & Privacy"
   ]
  },
  {
   "attachments": {},
   "cell_type": "markdown",
   "metadata": {},
   "source": [
    "We understand that there can be many biases in our research. For example, our datasets might be focused on just one country or just one race. This can create a bias in our project as limiting the research to a certain population of a country or race will only give information about these specific groups of people. We reduce bias by finding data that includes a large group of people that encompasses worldwide diabetes cases.\n",
    "\n",
    "There’s also the case where data points could be focused on people that already have diabetes instead of a general population of people. To avoid this, we can choose data that encompasses a wider range of people to avoid a “survivor” bias. More specifically, there should be an even split between diabetic and non-diabetic people to have a better proportion of data"
   ]
  },
  {
   "attachments": {},
   "cell_type": "markdown",
   "metadata": {},
   "source": [
    "# Team Expectations "
   ]
  },
  {
   "attachments": {},
   "cell_type": "markdown",
   "metadata": {},
   "source": [
    "\n",
    "Read over the [COGS108 Team Policies](https://github.com/COGS108/Projects/blob/master/COGS108_TeamPolicies.md) individually. Then, include your group’s expectations of one another for successful completion of your COGS108 project below. Discuss and agree on what all of your expectations are. Discuss how your team will communicate throughout the quarter and consider how you will communicate respectfully should conflicts arise. By including each member’s name above and by adding their name to the submission, you are indicating that you have read the COGS108 Team Policies, accept your team’s expectations below, and have every intention to fulfill them. These expectations are for your team’s use and benefit — they won’t be graded for their details.\n",
    "\n",
    "* We expect each member of our team to attend all meetings at the agreed upon dates and times (see below) unless there is an emergency.\n",
    "* We expect each member of our team to maintain consistent communication with the rest of the team throughout the quarter by checking the Discord chat often and sending messages about their progress on their tasks in that group chat.\n",
    "* We expect each member of our team to pull their weight for the project by completing their assigned tasks on time and with high quality. "
   ]
  },
  {
   "attachments": {},
   "cell_type": "markdown",
   "metadata": {},
   "source": [
    "# Project Timeline Proposal"
   ]
  },
  {
   "attachments": {},
   "cell_type": "markdown",
   "metadata": {},
   "source": [
    "| Meeting Date  | Meeting Time| Completed Before Meeting  | Discuss at Meeting |\n",
    "|---|---|---|---|\n",
    "| 4/26  |  5 PM | Looked at potential point of interest for our project  | Met each other and agreed on topics we our interested in | \n",
    "| 4/28  |  5 PM | Came up with potential hypothesis for project | Read Ethics Checklist and Team Policies; Agreed on a hypothesis that we could work on; Came up with Ethics and Team Policies for our team |\n",
    "| 5/03  | 5 PM  | Finalize and submit proposal; Search for potential datasets | Think about how we plan to wrangle and clean the dataset; Assign group members to lead each specific part |\n",
    "| 5/17  | 5 PM  | Import & Wrangle Data (Diabetes prediction dataset) | Discuss wrangling/EDA and Analysis Plan |\n",
    "| 5/31  | 5 PM  | Finish wrangling/EDA; Begin Analysis (Diabetes prediction dataset) | Discuss Analysis; Complete project check-in |\n",
    "| 6/10  | 5 PM  | Finish analysis; Begin results/conclusion/discussion (Diabetes prediction dataset) | Discuss full project |\n",
    "| 6/16  | Before 11:59 PM  | NA | Turn in Final Project & Group Project Surveys |"
   ]
  }
 ],
 "metadata": {
  "kernelspec": {
   "display_name": "Python 3",
   "language": "python",
   "name": "python3"
  },
  "language_info": {
   "codemirror_mode": {
    "name": "ipython",
    "version": 3
   },
   "file_extension": ".py",
   "mimetype": "text/x-python",
   "name": "python",
   "nbconvert_exporter": "python",
   "pygments_lexer": "ipython3",
   "version": "3.8.8"
  }
 },
 "nbformat": 4,
 "nbformat_minor": 2
}
